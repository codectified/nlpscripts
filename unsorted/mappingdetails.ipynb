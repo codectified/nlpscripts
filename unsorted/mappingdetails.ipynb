{
 "cells": [
  {
   "cell_type": "code",
   "execution_count": 2,
   "metadata": {},
   "outputs": [
    {
     "ename": "FileNotFoundError",
     "evalue": "[Errno 2] No such file or directory: 'scripts/ta-main-index-mappings-old.json'",
     "output_type": "error",
     "traceback": [
      "\u001b[0;31m---------------------------------------------------------------------------\u001b[0m",
      "\u001b[0;31mFileNotFoundError\u001b[0m                         Traceback (most recent call last)",
      "Cell \u001b[0;32mIn[2], line 68\u001b[0m\n\u001b[1;32m     65\u001b[0m     write_to_csv(fields, \u001b[38;5;124m'\u001b[39m\u001b[38;5;124mgpt-tps-vdx-go-es_mapping_details.csv\u001b[39m\u001b[38;5;124m'\u001b[39m)\n\u001b[1;32m     67\u001b[0m \u001b[38;5;28;01mif\u001b[39;00m \u001b[38;5;18m__name__\u001b[39m \u001b[38;5;241m==\u001b[39m \u001b[38;5;124m\"\u001b[39m\u001b[38;5;124m__main__\u001b[39m\u001b[38;5;124m\"\u001b[39m:\n\u001b[0;32m---> 68\u001b[0m     \u001b[43mmain\u001b[49m\u001b[43m(\u001b[49m\u001b[43m)\u001b[49m\n",
      "Cell \u001b[0;32mIn[2], line 55\u001b[0m, in \u001b[0;36mmain\u001b[0;34m()\u001b[0m\n\u001b[1;32m     51\u001b[0m \u001b[38;5;28;01mdef\u001b[39;00m \u001b[38;5;21mmain\u001b[39m():\n\u001b[1;32m     52\u001b[0m     \u001b[38;5;66;03m# Load your Elasticsearch index mapping from JSON file or Elasticsearch API response\u001b[39;00m\n\u001b[1;32m     53\u001b[0m     mapping_json \u001b[38;5;241m=\u001b[39m \u001b[38;5;124m'\u001b[39m\u001b[38;5;124mscripts/ta-main-index-mappings-old.json\u001b[39m\u001b[38;5;124m'\u001b[39m  \u001b[38;5;66;03m# Replace with your file path or JSON content\u001b[39;00m\n\u001b[0;32m---> 55\u001b[0m     \u001b[38;5;28;01mwith\u001b[39;00m \u001b[38;5;28;43mopen\u001b[39;49m\u001b[43m(\u001b[49m\u001b[43mmapping_json\u001b[49m\u001b[43m,\u001b[49m\u001b[43m \u001b[49m\u001b[38;5;124;43m'\u001b[39;49m\u001b[38;5;124;43mr\u001b[39;49m\u001b[38;5;124;43m'\u001b[39;49m\u001b[43m)\u001b[49m \u001b[38;5;28;01mas\u001b[39;00m file:\n\u001b[1;32m     56\u001b[0m         mapping \u001b[38;5;241m=\u001b[39m json\u001b[38;5;241m.\u001b[39mload(file)\n\u001b[1;32m     58\u001b[0m     \u001b[38;5;66;03m# Extract fields assuming the mapping is wrapped in a \"mappings\" key\u001b[39;00m\n",
      "File \u001b[0;32m~/Library/Python/3.11/lib/python/site-packages/IPython/core/interactiveshell.py:284\u001b[0m, in \u001b[0;36m_modified_open\u001b[0;34m(file, *args, **kwargs)\u001b[0m\n\u001b[1;32m    277\u001b[0m \u001b[38;5;28;01mif\u001b[39;00m file \u001b[38;5;129;01min\u001b[39;00m {\u001b[38;5;241m0\u001b[39m, \u001b[38;5;241m1\u001b[39m, \u001b[38;5;241m2\u001b[39m}:\n\u001b[1;32m    278\u001b[0m     \u001b[38;5;28;01mraise\u001b[39;00m \u001b[38;5;167;01mValueError\u001b[39;00m(\n\u001b[1;32m    279\u001b[0m         \u001b[38;5;124mf\u001b[39m\u001b[38;5;124m\"\u001b[39m\u001b[38;5;124mIPython won\u001b[39m\u001b[38;5;124m'\u001b[39m\u001b[38;5;124mt let you open fd=\u001b[39m\u001b[38;5;132;01m{\u001b[39;00mfile\u001b[38;5;132;01m}\u001b[39;00m\u001b[38;5;124m by default \u001b[39m\u001b[38;5;124m\"\u001b[39m\n\u001b[1;32m    280\u001b[0m         \u001b[38;5;124m\"\u001b[39m\u001b[38;5;124mas it is likely to crash IPython. If you know what you are doing, \u001b[39m\u001b[38;5;124m\"\u001b[39m\n\u001b[1;32m    281\u001b[0m         \u001b[38;5;124m\"\u001b[39m\u001b[38;5;124myou can use builtins\u001b[39m\u001b[38;5;124m'\u001b[39m\u001b[38;5;124m open.\u001b[39m\u001b[38;5;124m\"\u001b[39m\n\u001b[1;32m    282\u001b[0m     )\n\u001b[0;32m--> 284\u001b[0m \u001b[38;5;28;01mreturn\u001b[39;00m \u001b[43mio_open\u001b[49m\u001b[43m(\u001b[49m\u001b[43mfile\u001b[49m\u001b[43m,\u001b[49m\u001b[43m \u001b[49m\u001b[38;5;241;43m*\u001b[39;49m\u001b[43margs\u001b[49m\u001b[43m,\u001b[49m\u001b[43m \u001b[49m\u001b[38;5;241;43m*\u001b[39;49m\u001b[38;5;241;43m*\u001b[39;49m\u001b[43mkwargs\u001b[49m\u001b[43m)\u001b[49m\n",
      "\u001b[0;31mFileNotFoundError\u001b[0m: [Errno 2] No such file or directory: 'scripts/ta-main-index-mappings-old.json'"
     ]
    }
   ],
   "source": [
    "import csv\n",
    "import json\n",
    "\n",
    "def extract_fields(properties, prefix='', fields=None):\n",
    "    if fields is None:\n",
    "        fields = []\n",
    "\n",
    "    for field, details in properties.items():\n",
    "        field_path = f\"{prefix}.{field}\" if prefix else field\n",
    "\n",
    "        # Handle the extraction of field type and additional settings\n",
    "        field_info = {\n",
    "            'field_path': field_path,\n",
    "            'type': details.get('type', 'n/a'),\n",
    "            'additional_settings': json.dumps({\n",
    "                k: v for k, v in details.items() if k not in ['type', 'properties', 'fields']\n",
    "            }),\n",
    "        }\n",
    "        fields.append(field_info)\n",
    "\n",
    "        # Handle multi-fields like \"keyword\"\n",
    "        if 'fields' in details:\n",
    "            for sub_field, sub_details in details['fields'].items():\n",
    "                sub_field_path = f\"{field_path}.{sub_field}\"\n",
    "                sub_field_info = {\n",
    "                    'field_path': sub_field_path,\n",
    "                    'type': sub_details['type'],\n",
    "                    'additional_settings': json.dumps({\n",
    "                        k: v for k, v in sub_details.items() if k != 'type'\n",
    "                    }),\n",
    "                }\n",
    "                fields.append(sub_field_info)\n",
    "\n",
    "        # Recurse into nested properties\n",
    "        if 'properties' in details:\n",
    "            extract_fields(details['properties'], prefix=field_path, fields=fields)\n",
    "\n",
    "    return fields\n",
    "\n",
    "\n",
    "def write_to_csv(fields, filename):\n",
    "    with open(filename, 'w', newline='', encoding='utf-8') as csvfile:\n",
    "        fieldnames = ['field_path', 'type', 'additional_settings']  # Updated fieldnames\n",
    "        writer = csv.DictWriter(csvfile, fieldnames=fieldnames)\n",
    "\n",
    "        writer.writeheader()\n",
    "        for field in fields:\n",
    "            writer.writerow(field)\n",
    "\n",
    "\n",
    "def main():\n",
    "    # Load your Elasticsearch index mapping from JSON file or Elasticsearch API response\n",
    "    mapping_json = '../ta-main-index-mappings-old.json'  # Replace with your file path or JSON content\n",
    "    \n",
    "    with open(mapping_json, 'r') as file:\n",
    "        mapping = json.load(file)\n",
    "    \n",
    "    # Extract fields assuming the mapping is wrapped in a \"mappings\" key\n",
    "    mappings = mapping.get('mappings', {})\n",
    "    properties = mappings.get('properties', {})\n",
    "    \n",
    "    fields = extract_fields(properties)\n",
    "\n",
    "    # Write the fields information to CSV\n",
    "    write_to_csv(fields, 'gpt-tps-vdx-go-es_mapping_details.csv')\n",
    "\n",
    "if __name__ == \"__main__\":\n",
    "    main()\n"
   ]
  }
 ],
 "metadata": {
  "kernelspec": {
   "display_name": "Python 3",
   "language": "python",
   "name": "python3"
  },
  "language_info": {
   "codemirror_mode": {
    "name": "ipython",
    "version": 3
   },
   "file_extension": ".py",
   "mimetype": "text/x-python",
   "name": "python",
   "nbconvert_exporter": "python",
   "pygments_lexer": "ipython3",
   "version": "3.11.6"
  }
 },
 "nbformat": 4,
 "nbformat_minor": 2
}
